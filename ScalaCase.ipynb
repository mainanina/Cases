{
  "cells": [
    {
      "cell_type": "markdown",
      "source": [
        "###DATACAMP - DATA MANIPULATION WITH PANDAS - Case Study\n",
        "####Data Scientist with Python Track\n",
        "####Maina Alexandre - 16/jan/2022"
      ],
      "metadata": {
        "id": "tO1QLKvELiIG"
      }
    },
    {
      "cell_type": "markdown",
      "metadata": {
        "dc": {
          "key": "5"
        },
        "deletable": false,
        "editable": false,
        "run_control": {
          "frozen": true
        },
        "tags": [
          "context"
        ],
        "id": "isWF3D4DLaeH"
      },
      "source": [
        "## 1. Scala's real-world project repository data\n",
        "<p>With almost 30k commits and a history spanning over ten years, Scala is a mature programming language. It is a general-purpose programming language that has recently become another prominent language for data scientists.</p>\n",
        "<p>Scala is also an open source project. Open source projects have the advantage that their entire development histories -- who made changes, what was changed, code reviews, etc. -- are publicly available. </p>\n",
        "<p>We're going to read in, clean up, and visualize the real world project repository of Scala that spans data from a version control system (Git) as well as a project hosting site (GitHub). We will find out who has had the most influence on its development and who are the experts.</p>\n",
        "<p>The dataset we will use, which has been previously mined and extracted from GitHub, is comprised of three files:</p>\n",
        "<ol>\n",
        "<li><code>pulls_2011-2013.csv</code> contains the basic information about the pull requests, and spans from the end of 2011 up to (but not including) 2014.</li>\n",
        "<li><code>pulls_2014-2018.csv</code> contains identical information, and spans from 2014 up to 2018.</li>\n",
        "<li><code>pull_files.csv</code> contains the files that were modified by each pull request.</li>\n",
        "</ol>"
      ]
    },
    {
      "cell_type": "code",
      "execution_count": 2,
      "metadata": {
        "dc": {
          "key": "5"
        },
        "tags": [
          "sample_code"
        ],
        "id": "FQqc6nFJLaeO"
      },
      "outputs": [],
      "source": [
        "# Importing pandas\n",
        "import pandas as pd\n",
        "\n",
        "# Loading in the data\n",
        "pulls_one = pd.read_csv('pulls_2011-2013.csv')\n",
        "pulls_two = pd.read_csv('pulls_2014-2018.csv')\n",
        "pull_files = pd.read_csv('pull_files.csv')"
      ]
    },
    {
      "cell_type": "markdown",
      "metadata": {
        "dc": {
          "key": "12"
        },
        "deletable": false,
        "editable": false,
        "run_control": {
          "frozen": true
        },
        "tags": [
          "context"
        ],
        "id": "af31sTNLLaeT"
      },
      "source": [
        "## 2. Preparing and cleaning the data\n",
        "<p>First, we will need to combine the data from the two separate pull DataFrames. </p>\n",
        "<p>Next, the raw data extracted from GitHub contains dates in the ISO8601 format. However, <code>pandas</code> imports them as regular strings. To make our analysis easier, we need to convert the strings into Python's <code>DateTime</code> objects. <code>DateTime</code> objects have the important property that they can be compared and sorted.</p>\n",
        "<p>The pull request times are all in UTC (also known as Coordinated Universal Time). The commit times, however, are in the local time of the author with time zone information (number of hours difference from UTC). To make comparisons easy, we should convert all times to UTC.</p>"
      ]
    },
    {
      "cell_type": "code",
      "execution_count": 4,
      "metadata": {
        "dc": {
          "key": "12"
        },
        "tags": [
          "sample_code"
        ],
        "id": "LSrnikC6LaeX"
      },
      "outputs": [],
      "source": [
        "# Append pulls_one to pulls_two\n",
        "pulls = pulls_one.append(pulls_two)\n",
        "\n",
        "# Convert the date for the pulls object\n",
        "pulls['date'] = pd.to_datetime(pulls['date'], utc=True)"
      ]
    },
    {
      "cell_type": "markdown",
      "metadata": {
        "dc": {
          "key": "19"
        },
        "deletable": false,
        "editable": false,
        "run_control": {
          "frozen": true
        },
        "tags": [
          "context"
        ],
        "id": "kWIxG3K2LaeX"
      },
      "source": [
        "## 3. Merging the DataFrames\n",
        "<p>The data extracted comes in two separate files. Merging the two DataFrames will make it easier for us to analyze the data in the future tasks.</p>"
      ]
    },
    {
      "cell_type": "code",
      "execution_count": 5,
      "metadata": {
        "dc": {
          "key": "19"
        },
        "tags": [
          "sample_code"
        ],
        "id": "wc53S7UwLaeY"
      },
      "outputs": [],
      "source": [
        "# Merge the two DataFrames\n",
        "data = pulls.merge(pull_files, on='pid')"
      ]
    },
    {
      "cell_type": "markdown",
      "metadata": {
        "dc": {
          "key": "26"
        },
        "deletable": false,
        "editable": false,
        "run_control": {
          "frozen": true
        },
        "tags": [
          "context"
        ],
        "id": "VcptJT7wLaeY"
      },
      "source": [
        "## 4. Is the project still actively maintained?\n",
        "<p>The activity in an open source project is not very consistent. Some projects might be active for many years after the initial release, while others can slowly taper out into oblivion. Before committing to contributing to a project, it is important to understand the state of the project. Is development going steadily, or is there a drop? Has the project been abandoned altogether?</p>\n",
        "<p>The data used in this project was collected in January of 2018. We are interested in the evolution of the number of contributions up to that date.</p>\n",
        "<p>For Scala, we will do this by plotting a chart of the project's activity. We will calculate the number of pull requests submitted each (calendar) month during the project's lifetime. We will then plot these numbers to see the trend of contributions.</p>\n",
        "<ul>\n",
        "<li><p>A helpful reminder of how to access various components of a date can be found in <a href=\"https://campus.datacamp.com/courses/data-manipulation-with-pandas/slicing-and-indexing?ex=12\">this exercise of Data Manipulation with pandas</a></p></li>\n",
        "<li><p>Additionally, recall that you can group by multiple variables by passing a list to <code>groupby()</code>. This video from <a href=\"https://campus.datacamp.com/courses/data-manipulation-with-pandas/aggregating-data-ad6d4643-0e95-470c-8299-f69cc4c83de8?ex=9\">Data Manipulation with pandas</a> should help!</p></li>\n",
        "</ul>"
      ]
    },
    {
      "cell_type": "code",
      "execution_count": 6,
      "metadata": {
        "dc": {
          "key": "26"
        },
        "tags": [
          "sample_code"
        ],
        "colab": {
          "base_uri": "https://localhost:8080/",
          "height": 339
        },
        "id": "bHxw_f1MLaeY",
        "outputId": "548b3e0e-c1c3-464c-b234-6e4dc2391dc7"
      },
      "outputs": [
        {
          "output_type": "execute_result",
          "data": {
            "text/plain": [
              "<matplotlib.axes._subplots.AxesSubplot at 0x7f8045b02e10>"
            ]
          },
          "metadata": {},
          "execution_count": 6
        },
        {
          "output_type": "display_data",
          "data": {
            "image/png": "[encoded data removed]",
            "text/plain": [
              "<Figure size 864x288 with 1 Axes>"
            ]
          },
          "metadata": {
            "needs_background": "light"
          }
        }
      ],
      "source": [
        "%matplotlib inline\n",
        "\n",
        "# Create a column that will store the month\n",
        "data['month'] = data['date'].dt.month\n",
        "\n",
        "# Create a column that will store the year\n",
        "data['year'] = data['date'].dt.year\n",
        "\n",
        "# Group by the month and year and count the pull requests\n",
        "counts = data.groupby(['month', 'year'])['pid'].count()\n",
        "\n",
        "# Plot the results\n",
        "counts.plot(kind='bar', figsize = (12,4))"
      ]
    },
    {
      "cell_type": "markdown",
      "metadata": {
        "dc": {
          "key": "33"
        },
        "deletable": false,
        "editable": false,
        "run_control": {
          "frozen": true
        },
        "tags": [
          "context"
        ],
        "id": "1t5RuIB1LaeZ"
      },
      "source": [
        "## 5. Is there camaraderie in the project?\n",
        "<p>The organizational structure varies from one project to another, and it can influence your success as a contributor. A project that has a very small community might not be the best one to start working on. The small community might indicate a high barrier of entry. This can be caused by several factors, including a community that is reluctant to accept pull requests from \"outsiders,\" that the code base is hard to work with, etc. However, a large community can serve as an indicator that the project is regularly accepting pull requests from new contributors. Such a project would be a good place to start.</p>\n",
        "<p>In order to evaluate the dynamics of the community, we will plot a histogram of the number of pull requests submitted by each user. A distribution that shows that there are few people that only contribute a small number of pull requests can be used as in indicator that the project is not welcoming of new contributors. </p>"
      ]
    },
    {
      "cell_type": "code",
      "execution_count": 13,
      "metadata": {
        "dc": {
          "key": "33"
        },
        "tags": [
          "sample_code"
        ],
        "colab": {
          "base_uri": "https://localhost:8080/",
          "height": 316
        },
        "id": "PkmR9bYNLaea",
        "outputId": "2579eda3-82bd-441f-a123-e20c865c48ca"
      },
      "outputs": [
        {
          "output_type": "execute_result",
          "data": {
            "text/plain": [
              "array([[<matplotlib.axes._subplots.AxesSubplot object at 0x7f80451b0b50>]],\n",
              "      dtype=object)"
            ]
          },
          "metadata": {},
          "execution_count": 13
        },
        {
          "output_type": "display_data",
          "data": {
            "image/png": "[encoded data removed]",
            "text/plain": [
              "<Figure size 432x288 with 1 Axes>"
            ]
          },
          "metadata": {
            "needs_background": "light"
          }
        }
      ],
      "source": [
        "# Required for matplotlib\n",
        "%matplotlib inline\n",
        "\n",
        "# Group by the submitter\n",
        "by_user = data.groupby('user').agg({\n",
        "    'user': 'count'\n",
        "})\n",
        "\n",
        "# Plot the histogram\n",
        "by_user.hist()\n"
      ]
    },
    {
      "cell_type": "markdown",
      "metadata": {
        "dc": {
          "key": "40"
        },
        "deletable": false,
        "editable": false,
        "run_control": {
          "frozen": true
        },
        "tags": [
          "context"
        ],
        "id": "enVOfOpSLaeb"
      },
      "source": [
        "## 6. What files were changed in the last ten pull requests?\n",
        "<p>Choosing the right place to make a contribution is as important as choosing the project to contribute to. Some parts of the code might be stable, some might be dead. Contributing there might not have the most impact. Therefore it is important to understand the parts of the system that have been recently changed. This allows us to pinpoint the \"hot\" areas of the code where most of the activity is happening. Focusing on those parts might not the most effective use of our times.</p>"
      ]
    },
    {
      "cell_type": "code",
      "execution_count": 18,
      "metadata": {
        "dc": {
          "key": "40"
        },
        "tags": [
          "sample_code"
        ],
        "colab": {
          "base_uri": "https://localhost:8080/"
        },
        "id": "sZ_ty5eALaeb",
        "outputId": "23294e69-a730-4b90-d16d-474c2e6f91c3"
      },
      "outputs": [
        {
          "output_type": "execute_result",
          "data": {
            "text/plain": [
              "{'LICENSE',\n",
              " 'doc/LICENSE.md',\n",
              " 'doc/License.rtf',\n",
              " 'project/VersionUtil.scala',\n",
              " 'src/compiler/scala/reflect/reify/phases/Calculate.scala',\n",
              " 'src/compiler/scala/tools/nsc/backend/jvm/BCodeHelpers.scala',\n",
              " 'src/compiler/scala/tools/nsc/backend/jvm/PostProcessor.scala',\n",
              " 'src/compiler/scala/tools/nsc/backend/jvm/analysis/BackendUtils.scala',\n",
              " 'src/compiler/scala/tools/nsc/profile/AsyncHelper.scala',\n",
              " 'src/compiler/scala/tools/nsc/profile/Profiler.scala',\n",
              " 'src/compiler/scala/tools/nsc/symtab/classfile/ClassfileParser.scala',\n",
              " 'src/compiler/scala/tools/nsc/typechecker/Contexts.scala',\n",
              " 'src/library/scala/Predef.scala',\n",
              " 'src/library/scala/concurrent/Lock.scala',\n",
              " 'src/library/scala/util/Properties.scala',\n",
              " 'src/reflect/scala/reflect/internal/pickling/ByteCodecs.scala',\n",
              " 'src/reflect/scala/reflect/internal/tpe/GlbLubs.scala',\n",
              " 'src/scaladoc/scala/tools/nsc/doc/html/page/Entity.scala',\n",
              " 'src/scalap/decoder.properties',\n",
              " 'test/files/neg/leibniz-liskov.check',\n",
              " 'test/files/neg/leibniz-liskov.scala',\n",
              " 'test/files/pos/leibniz-liskov.scala',\n",
              " 'test/files/pos/leibniz_liskov.scala',\n",
              " 'test/files/pos/parallel-classloader.scala',\n",
              " 'test/files/pos/t10568/Converter.java',\n",
              " 'test/files/pos/t10568/Impl.scala',\n",
              " 'test/files/pos/t10686.scala',\n",
              " 'test/files/pos/t5638/Among.java',\n",
              " 'test/files/pos/t5638/Usage.scala',\n",
              " 'test/files/pos/t9291.scala',\n",
              " 'test/files/run/t8348.check',\n",
              " 'test/files/run/t8348/TableColumn.java',\n",
              " 'test/files/run/t8348/TableColumnImpl.java',\n",
              " 'test/files/run/t8348/Test.scala'}"
            ]
          },
          "metadata": {},
          "execution_count": 18
        }
      ],
      "source": [
        "# Identify the last 10 pull requests\n",
        "last_10 = pulls.sort_values(by = 'date').tail(10)\n",
        "\n",
        "# Join the two data sets\n",
        "joined_pr = pull_files.merge(last_10, on='pid')\n",
        "\n",
        "# Identify the unique files\n",
        "files = set(joined_pr['file'])\n",
        "\n",
        "# Print the results\n",
        "files"
      ]
    },
    {
      "cell_type": "markdown",
      "metadata": {
        "dc": {
          "key": "47"
        },
        "deletable": false,
        "editable": false,
        "run_control": {
          "frozen": true
        },
        "tags": [
          "context"
        ],
        "id": "dIvkoRawLaeb"
      },
      "source": [
        "## 7. Who made the most pull requests to a given file?\n",
        "<p>When contributing to a project, we might need some guidance. We might find ourselves needing some information regarding the codebase. It is important direct any questions to the right person. Contributors to open source projects generally have other day jobs, so their time is limited. It is important to address our questions to the right people. One way to identify the right target for our inquiries is by using their contribution history.</p>\n",
        "<p>We identified <code>src/compiler/scala/reflect/reify/phases/Calculate.scala</code> as being recently changed. We are interested in the top 3 developers who changed that file. Those developers are the ones most likely to have the best understanding of the code.</p>"
      ]
    },
    {
      "cell_type": "code",
      "source": [
        "data.head()"
      ],
      "metadata": {
        "colab": {
          "base_uri": "https://localhost:8080/",
          "height": 206
        },
        "id": "WI0DBLVpn6yd",
        "outputId": "51074a36-3bbb-497b-c99f-c20010c182cf"
      },
      "execution_count": 19,
      "outputs": [
        {
          "output_type": "execute_result",
          "data": {
            "text/html": [
              "\n",
              "  <div id=\"df-ecadfa19-fe99-49ab-9455-5a6ee177d202\">\n",
              "    <div class=\"colab-df-container\">\n",
              "      <div>\n",
              "<style scoped>\n",
              "    .dataframe tbody tr th:only-of-type {\n",
              "        vertical-align: middle;\n",
              "    }\n",
              "\n",
              "    .dataframe tbody tr th {\n",
              "        vertical-align: top;\n",
              "    }\n",
              "\n",
              "    .dataframe thead th {\n",
              "        text-align: right;\n",
              "    }\n",
              "</style>\n",
              "<table border=\"1\" class=\"dataframe\">\n",
              "  <thead>\n",
              "    <tr style=\"text-align: right;\">\n",
              "      <th></th>\n",
              "      <th>pid</th>\n",
              "      <th>user</th>\n",
              "      <th>date</th>\n",
              "      <th>file</th>\n",
              "      <th>month</th>\n",
              "      <th>year</th>\n",
              "    </tr>\n",
              "  </thead>\n",
              "  <tbody>\n",
              "    <tr>\n",
              "      <th>0</th>\n",
              "      <td>11166973</td>\n",
              "      <td>VladimirNik</td>\n",
              "      <td>2013-12-31 23:10:55+00:00</td>\n",
              "      <td>src/reflect/scala/reflect/api/Printers.scala</td>\n",
              "      <td>12</td>\n",
              "      <td>2013</td>\n",
              "    </tr>\n",
              "    <tr>\n",
              "      <th>1</th>\n",
              "      <td>11166973</td>\n",
              "      <td>VladimirNik</td>\n",
              "      <td>2013-12-31 23:10:55+00:00</td>\n",
              "      <td>src/reflect/scala/reflect/internal/Printers.scala</td>\n",
              "      <td>12</td>\n",
              "      <td>2013</td>\n",
              "    </tr>\n",
              "    <tr>\n",
              "      <th>2</th>\n",
              "      <td>11166973</td>\n",
              "      <td>VladimirNik</td>\n",
              "      <td>2013-12-31 23:10:55+00:00</td>\n",
              "      <td>test/files/run/reify_ann3.check</td>\n",
              "      <td>12</td>\n",
              "      <td>2013</td>\n",
              "    </tr>\n",
              "    <tr>\n",
              "      <th>3</th>\n",
              "      <td>11166973</td>\n",
              "      <td>VladimirNik</td>\n",
              "      <td>2013-12-31 23:10:55+00:00</td>\n",
              "      <td>test/junit/scala/reflect/internal/PrintersTest...</td>\n",
              "      <td>12</td>\n",
              "      <td>2013</td>\n",
              "    </tr>\n",
              "    <tr>\n",
              "      <th>4</th>\n",
              "      <td>11161892</td>\n",
              "      <td>Ichoran</td>\n",
              "      <td>2013-12-31 16:55:47+00:00</td>\n",
              "      <td>src/library/scala/collection/mutable/ArrayOps....</td>\n",
              "      <td>12</td>\n",
              "      <td>2013</td>\n",
              "    </tr>\n",
              "  </tbody>\n",
              "</table>\n",
              "</div>\n",
              "      <button class=\"colab-df-convert\" onclick=\"convertToInteractive('df-ecadfa19-fe99-49ab-9455-5a6ee177d202')\"\n",
              "              title=\"Convert this dataframe to an interactive table.\"\n",
              "              style=\"display:none;\">\n",
              "        \n",
              "  <svg xmlns=\"http://www.w3.org/2000/svg\" height=\"24px\"viewBox=\"0 0 24 24\"\n",
              "       width=\"24px\">\n",
              "    <path d=\"M0 0h24v24H0V0z\" fill=\"none\"/>\n",
              "    <path d=\"M18.56 5.44l.94 2.06.94-2.06 2.06-.94-2.06-.94-.94-2.06-.94 2.06-2.06.94zm-11 1L8.5 8.5l.94-2.06 2.06-.94-2.06-.94L8.5 2.5l-.94 2.06-2.06.94zm10 10l.94 2.06.94-2.06 2.06-.94-2.06-.94-.94-2.06-.94 2.06-2.06.94z\"/><path d=\"M17.41 7.96l-1.37-1.37c-.4-.4-.92-.59-1.43-.59-.52 0-1.04.2-1.43.59L10.3 9.45l-7.72 7.72c-.78.78-.78 2.05 0 2.83L4 21.41c.39.39.9.59 1.41.59.51 0 1.02-.2 1.41-.59l7.78-7.78 2.81-2.81c.8-.78.8-2.07 0-2.86zM5.41 20L4 18.59l7.72-7.72 1.47 1.35L5.41 20z\"/>\n",
              "  </svg>\n",
              "      </button>\n",
              "      \n",
              "  <style>\n",
              "    .colab-df-container {\n",
              "      display:flex;\n",
              "      flex-wrap:wrap;\n",
              "      gap: 12px;\n",
              "    }\n",
              "\n",
              "    .colab-df-convert {\n",
              "      background-color: #E8F0FE;\n",
              "      border: none;\n",
              "      border-radius: 50%;\n",
              "      cursor: pointer;\n",
              "      display: none;\n",
              "      fill: #1967D2;\n",
              "      height: 32px;\n",
              "      padding: 0 0 0 0;\n",
              "      width: 32px;\n",
              "    }\n",
              "\n",
              "    .colab-df-convert:hover {\n",
              "      background-color: #E2EBFA;\n",
              "      box-shadow: 0px 1px 2px rgba(60, 64, 67, 0.3), 0px 1px 3px 1px rgba(60, 64, 67, 0.15);\n",
              "      fill: #174EA6;\n",
              "    }\n",
              "\n",
              "    [theme=dark] .colab-df-convert {\n",
              "      background-color: #3B4455;\n",
              "      fill: #D2E3FC;\n",
              "    }\n",
              "\n",
              "    [theme=dark] .colab-df-convert:hover {\n",
              "      background-color: #434B5C;\n",
              "      box-shadow: 0px 1px 3px 1px rgba(0, 0, 0, 0.15);\n",
              "      filter: drop-shadow(0px 1px 2px rgba(0, 0, 0, 0.3));\n",
              "      fill: #FFFFFF;\n",
              "    }\n",
              "  </style>\n",
              "\n",
              "      <script>\n",
              "        const buttonEl =\n",
              "          document.querySelector('#df-ecadfa19-fe99-49ab-9455-5a6ee177d202 button.colab-df-convert');\n",
              "        buttonEl.style.display =\n",
              "          google.colab.kernel.accessAllowed ? 'block' : 'none';\n",
              "\n",
              "        async function convertToInteractive(key) {\n",
              "          const element = document.querySelector('#df-ecadfa19-fe99-49ab-9455-5a6ee177d202');\n",
              "          const dataTable =\n",
              "            await google.colab.kernel.invokeFunction('convertToInteractive',\n",
              "                                                     [key], {});\n",
              "          if (!dataTable) return;\n",
              "\n",
              "          const docLinkHtml = 'Like what you see? Visit the ' +\n",
              "            '<a target=\"_blank\" href=https://colab.research.google.com/notebooks/data_table.ipynb>data table notebook</a>'\n",
              "            + ' to learn more about interactive tables.';\n",
              "          element.innerHTML = '';\n",
              "          dataTable['output_type'] = 'display_data';\n",
              "          await google.colab.output.renderOutput(dataTable, element);\n",
              "          const docLink = document.createElement('div');\n",
              "          docLink.innerHTML = docLinkHtml;\n",
              "          element.appendChild(docLink);\n",
              "        }\n",
              "      </script>\n",
              "    </div>\n",
              "  </div>\n",
              "  "
            ],
            "text/plain": [
              "        pid         user  ... month  year\n",
              "0  11166973  VladimirNik  ...    12  2013\n",
              "1  11166973  VladimirNik  ...    12  2013\n",
              "2  11166973  VladimirNik  ...    12  2013\n",
              "3  11166973  VladimirNik  ...    12  2013\n",
              "4  11161892      Ichoran  ...    12  2013\n",
              "\n",
              "[5 rows x 6 columns]"
            ]
          },
          "metadata": {},
          "execution_count": 19
        }
      ]
    },
    {
      "cell_type": "code",
      "execution_count": 22,
      "metadata": {
        "dc": {
          "key": "47"
        },
        "tags": [
          "sample_code"
        ],
        "colab": {
          "base_uri": "https://localhost:8080/",
          "height": 175
        },
        "id": "4_0-Qbx0Laec",
        "outputId": "97934b80-4bd2-4582-d59d-8ab2ada8f236"
      },
      "outputs": [
        {
          "output_type": "execute_result",
          "data": {
            "text/html": [
              "\n",
              "  <div id=\"df-9518eb11-6aaa-4e31-b3e8-3bcf05934021\">\n",
              "    <div class=\"colab-df-container\">\n",
              "      <div>\n",
              "<style scoped>\n",
              "    .dataframe tbody tr th:only-of-type {\n",
              "        vertical-align: middle;\n",
              "    }\n",
              "\n",
              "    .dataframe tbody tr th {\n",
              "        vertical-align: top;\n",
              "    }\n",
              "\n",
              "    .dataframe thead th {\n",
              "        text-align: right;\n",
              "    }\n",
              "</style>\n",
              "<table border=\"1\" class=\"dataframe\">\n",
              "  <thead>\n",
              "    <tr style=\"text-align: right;\">\n",
              "      <th></th>\n",
              "      <th>pid</th>\n",
              "      <th>date</th>\n",
              "      <th>file</th>\n",
              "      <th>month</th>\n",
              "      <th>year</th>\n",
              "    </tr>\n",
              "    <tr>\n",
              "      <th>user</th>\n",
              "      <th></th>\n",
              "      <th></th>\n",
              "      <th></th>\n",
              "      <th></th>\n",
              "      <th></th>\n",
              "    </tr>\n",
              "  </thead>\n",
              "  <tbody>\n",
              "    <tr>\n",
              "      <th>xeno-by</th>\n",
              "      <td>11</td>\n",
              "      <td>11</td>\n",
              "      <td>11</td>\n",
              "      <td>11</td>\n",
              "      <td>11</td>\n",
              "    </tr>\n",
              "    <tr>\n",
              "      <th>retronym</th>\n",
              "      <td>5</td>\n",
              "      <td>5</td>\n",
              "      <td>5</td>\n",
              "      <td>5</td>\n",
              "      <td>5</td>\n",
              "    </tr>\n",
              "    <tr>\n",
              "      <th>soc</th>\n",
              "      <td>4</td>\n",
              "      <td>4</td>\n",
              "      <td>4</td>\n",
              "      <td>4</td>\n",
              "      <td>4</td>\n",
              "    </tr>\n",
              "  </tbody>\n",
              "</table>\n",
              "</div>\n",
              "      <button class=\"colab-df-convert\" onclick=\"convertToInteractive('df-9518eb11-6aaa-4e31-b3e8-3bcf05934021')\"\n",
              "              title=\"Convert this dataframe to an interactive table.\"\n",
              "              style=\"display:none;\">\n",
              "        \n",
              "  <svg xmlns=\"http://www.w3.org/2000/svg\" height=\"24px\"viewBox=\"0 0 24 24\"\n",
              "       width=\"24px\">\n",
              "    <path d=\"M0 0h24v24H0V0z\" fill=\"none\"/>\n",
              "    <path d=\"M18.56 5.44l.94 2.06.94-2.06 2.06-.94-2.06-.94-.94-2.06-.94 2.06-2.06.94zm-11 1L8.5 8.5l.94-2.06 2.06-.94-2.06-.94L8.5 2.5l-.94 2.06-2.06.94zm10 10l.94 2.06.94-2.06 2.06-.94-2.06-.94-.94-2.06-.94 2.06-2.06.94z\"/><path d=\"M17.41 7.96l-1.37-1.37c-.4-.4-.92-.59-1.43-.59-.52 0-1.04.2-1.43.59L10.3 9.45l-7.72 7.72c-.78.78-.78 2.05 0 2.83L4 21.41c.39.39.9.59 1.41.59.51 0 1.02-.2 1.41-.59l7.78-7.78 2.81-2.81c.8-.78.8-2.07 0-2.86zM5.41 20L4 18.59l7.72-7.72 1.47 1.35L5.41 20z\"/>\n",
              "  </svg>\n",
              "      </button>\n",
              "      \n",
              "  <style>\n",
              "    .colab-df-container {\n",
              "      display:flex;\n",
              "      flex-wrap:wrap;\n",
              "      gap: 12px;\n",
              "    }\n",
              "\n",
              "    .colab-df-convert {\n",
              "      background-color: #E8F0FE;\n",
              "      border: none;\n",
              "      border-radius: 50%;\n",
              "      cursor: pointer;\n",
              "      display: none;\n",
              "      fill: #1967D2;\n",
              "      height: 32px;\n",
              "      padding: 0 0 0 0;\n",
              "      width: 32px;\n",
              "    }\n",
              "\n",
              "    .colab-df-convert:hover {\n",
              "      background-color: #E2EBFA;\n",
              "      box-shadow: 0px 1px 2px rgba(60, 64, 67, 0.3), 0px 1px 3px 1px rgba(60, 64, 67, 0.15);\n",
              "      fill: #174EA6;\n",
              "    }\n",
              "\n",
              "    [theme=dark] .colab-df-convert {\n",
              "      background-color: #3B4455;\n",
              "      fill: #D2E3FC;\n",
              "    }\n",
              "\n",
              "    [theme=dark] .colab-df-convert:hover {\n",
              "      background-color: #434B5C;\n",
              "      box-shadow: 0px 1px 3px 1px rgba(0, 0, 0, 0.15);\n",
              "      filter: drop-shadow(0px 1px 2px rgba(0, 0, 0, 0.3));\n",
              "      fill: #FFFFFF;\n",
              "    }\n",
              "  </style>\n",
              "\n",
              "      <script>\n",
              "        const buttonEl =\n",
              "          document.querySelector('#df-9518eb11-6aaa-4e31-b3e8-3bcf05934021 button.colab-df-convert');\n",
              "        buttonEl.style.display =\n",
              "          google.colab.kernel.accessAllowed ? 'block' : 'none';\n",
              "\n",
              "        async function convertToInteractive(key) {\n",
              "          const element = document.querySelector('#df-9518eb11-6aaa-4e31-b3e8-3bcf05934021');\n",
              "          const dataTable =\n",
              "            await google.colab.kernel.invokeFunction('convertToInteractive',\n",
              "                                                     [key], {});\n",
              "          if (!dataTable) return;\n",
              "\n",
              "          const docLinkHtml = 'Like what you see? Visit the ' +\n",
              "            '<a target=\"_blank\" href=https://colab.research.google.com/notebooks/data_table.ipynb>data table notebook</a>'\n",
              "            + ' to learn more about interactive tables.';\n",
              "          element.innerHTML = '';\n",
              "          dataTable['output_type'] = 'display_data';\n",
              "          await google.colab.output.renderOutput(dataTable, element);\n",
              "          const docLink = document.createElement('div');\n",
              "          docLink.innerHTML = docLinkHtml;\n",
              "          element.appendChild(docLink);\n",
              "        }\n",
              "      </script>\n",
              "    </div>\n",
              "  </div>\n",
              "  "
            ],
            "text/plain": [
              "          pid  date  file  month  year\n",
              "user                                  \n",
              "xeno-by    11    11    11     11    11\n",
              "retronym    5     5     5      5     5\n",
              "soc         4     4     4      4     4"
            ]
          },
          "metadata": {},
          "execution_count": 22
        }
      ],
      "source": [
        "# This is the file we are interested in:\n",
        "file = 'src/compiler/scala/reflect/reify/phases/Calculate.scala'\n",
        "\n",
        "# Identify the commits that changed the file\n",
        "file_pr = data[data['file']==file]\n",
        "\n",
        "# Count the number of changes made by each developer\n",
        "author_counts = file_pr.groupby('user').count()\n",
        "\n",
        "# Print the top 3 developers\n",
        "author_counts.nlargest(3, 'file')"
      ]
    },
    {
      "cell_type": "markdown",
      "metadata": {
        "dc": {
          "key": "54"
        },
        "deletable": false,
        "editable": false,
        "run_control": {
          "frozen": true
        },
        "tags": [
          "context"
        ],
        "id": "XuKBP6cwLaec"
      },
      "source": [
        "## 8. Who made the last ten pull requests on a given file?\n",
        "<p>Open source projects suffer from fluctuating membership. This makes the problem of finding the right person more challenging: the person has to be knowledgeable <em>and</em> still be involved in the project. A person that contributed a lot in the past might no longer be available (or willing) to help. To get a better understanding, we need to investigate the more recent history of that particular part of the system. </p>\n",
        "<p>Like in the previous task, we will look at the history of  <code>src/compiler/scala/reflect/reify/phases/Calculate.scala</code>.</p>"
      ]
    },
    {
      "cell_type": "code",
      "execution_count": 25,
      "metadata": {
        "dc": {
          "key": "54"
        },
        "tags": [
          "sample_code"
        ],
        "colab": {
          "base_uri": "https://localhost:8080/"
        },
        "id": "s8-q5O25Laec",
        "outputId": "5bbc3143-27b1-448f-ea96-3432e6d4e0de"
      },
      "outputs": [
        {
          "output_type": "execute_result",
          "data": {
            "text/plain": [
              "{'bjornregnell', 'retronym', 'soc', 'starblood', 'xeno-by', 'zuvizudar'}"
            ]
          },
          "metadata": {},
          "execution_count": 25
        }
      ],
      "source": [
        "file = 'src/compiler/scala/reflect/reify/phases/Calculate.scala'\n",
        "\n",
        "# Select the pull requests that changed the target file\n",
        "file_pr = pull_files[pull_files['file']==file]\n",
        "\n",
        "# Merge the obtained results with the pulls DataFrame\n",
        "joined_pr = pulls.merge(file_pr, on='pid')\n",
        "\n",
        "# Find the users of the last 10 most recent pull requests\n",
        "users_last_10 = set(joined_pr.nlargest(10, 'date')['user'])\n",
        "\n",
        "# Printing the results\n",
        "users_last_10\n",
        "\n"
      ]
    },
    {
      "cell_type": "markdown",
      "metadata": {
        "dc": {
          "key": "61"
        },
        "deletable": false,
        "editable": false,
        "run_control": {
          "frozen": true
        },
        "tags": [
          "context"
        ],
        "id": "8cB6RkXMLaed"
      },
      "source": [
        "## 9. The pull requests of two special developers\n",
        "<p>Now that we have identified two potential contacts in the projects, we need to find the person who was most involved in the project in recent times. That person is most likely to answer our questions. For each calendar year, we are interested in understanding the number of pull requests the authors submitted. This will give us a high-level image of their contribution trend to the project.</p>"
      ]
    },
    {
      "cell_type": "code",
      "execution_count": 31,
      "metadata": {
        "dc": {
          "key": "61"
        },
        "tags": [
          "sample_code"
        ],
        "colab": {
          "base_uri": "https://localhost:8080/",
          "height": 313
        },
        "id": "0EpA33OJLaed",
        "outputId": "c6f365fc-b291-43cb-9509-b681d56490ed"
      },
      "outputs": [
        {
          "output_type": "execute_result",
          "data": {
            "text/plain": [
              "<matplotlib.axes._subplots.AxesSubplot at 0x7f8044f57810>"
            ]
          },
          "metadata": {},
          "execution_count": 31
        },
        {
          "output_type": "display_data",
          "data": {
            "image/png": "[encoded data removed]",
            "text/plain": [
              "<Figure size 432x288 with 1 Axes>"
            ]
          },
          "metadata": {
            "needs_background": "light"
          }
        }
      ],
      "source": [
        "%matplotlib inline\n",
        "\n",
        "# The developers we are interested in\n",
        "authors = ['xeno-by', 'soc']\n",
        "\n",
        "# Get all the developers' pull requests\n",
        "by_author = pulls[pulls['user'].isin(authors)]\n",
        "\n",
        "# Count the number of pull requests submitted each year\n",
        "counts = by_author.groupby([by_author['user'], by_author['date'].dt.year]).agg({'pid': 'count'}).reset_index()\n",
        "\n",
        "# Convert the table to a wide format\n",
        "counts_wide = counts.pivot_table(index='date', columns='user', values='pid', fill_value=0)\n",
        "\n",
        "# Plot the results\n",
        "counts_wide.plot(kind='bar')"
      ]
    },
    {
      "cell_type": "markdown",
      "metadata": {
        "dc": {
          "key": "68"
        },
        "deletable": false,
        "editable": false,
        "run_control": {
          "frozen": true
        },
        "tags": [
          "context"
        ],
        "id": "-x4QWkO3Laed"
      },
      "source": [
        "## 10. Visualizing the contributions of each developer\n",
        "<p>As mentioned before, it is important to make a distinction between the global expertise and contribution levels and the contribution levels at a more granular level (file, submodule, etc.) In our case, we want to see which of our two developers of interest have the most experience with the code in a given file. We will measure experience by the number of pull requests submitted that affect that file and how recent those pull requests were submitted.</p>"
      ]
    },
    {
      "cell_type": "code",
      "execution_count": 32,
      "metadata": {
        "dc": {
          "key": "68"
        },
        "tags": [
          "sample_code"
        ],
        "colab": {
          "base_uri": "https://localhost:8080/",
          "height": 313
        },
        "id": "VQ6RxVC6Laee",
        "outputId": "4e78c028-2261-45b4-e4dc-71d139d8a825"
      },
      "outputs": [
        {
          "output_type": "execute_result",
          "data": {
            "text/plain": [
              "<matplotlib.axes._subplots.AxesSubplot at 0x7f8044622910>"
            ]
          },
          "metadata": {},
          "execution_count": 32
        },
        {
          "output_type": "display_data",
          "data": {
            "image/png": "[encoded data removed]",
            "text/plain": [
              "<Figure size 432x288 with 1 Axes>"
            ]
          },
          "metadata": {
            "needs_background": "light"
          }
        }
      ],
      "source": [
        "authors = ['xeno-by', 'soc']\n",
        "file = 'src/compiler/scala/reflect/reify/phases/Calculate.scala'\n",
        "\n",
        "# Merge DataFrames and select the pull requests by the author\n",
        "by_author = data[data['user'].isin(authors)]\n",
        "\n",
        "# Select the pull requests that affect the file\n",
        "by_file = by_author[by_author['file'] == file]\n",
        "\n",
        "# Group and count the number of PRs done by each user each year\n",
        "grouped = by_file.groupby(['user', by_file['date'].dt.year]).count()['pid'].reset_index()\n",
        "\n",
        "# Transform the data into a wide format\n",
        "by_file_wide = grouped.pivot_table(index='date', columns='user', values='pid', fill_value=0)\n",
        "\n",
        "# Plot the results\n",
        "by_file_wide.plot(kind='bar')"
      ]
    }
  ],
  "metadata": {
    "kernelspec": {
      "display_name": "Python 3",
      "language": "python",
      "name": "python3"
    },
    "language_info": {
      "codemirror_mode": {
        "name": "ipython",
        "version": 3
      },
      "file_extension": ".py",
      "mimetype": "text/x-python",
      "name": "python",
      "nbconvert_exporter": "python",
      "pygments_lexer": "ipython3",
      "version": "3.5.2"
    },
    "colab": {
      "name": "ScalaCase.ipynb",
      "provenance": [],
      "collapsed_sections": []
    }
  },
  "nbformat": 4,
  "nbformat_minor": 0
}